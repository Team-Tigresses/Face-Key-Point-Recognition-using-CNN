{
  "nbformat": 4,
  "nbformat_minor": 0,
  "metadata": {
    "colab": {
      "provenance": []
    },
    "kernelspec": {
      "name": "python3",
      "display_name": "Python 3"
    },
    "language_info": {
      "name": "python"
    }
  },
  "cells": [
    {
      "cell_type": "code",
      "source": [
        "!pip install matplotlib-venn"
      ],
      "metadata": {
        "colab": {
          "base_uri": "https://localhost:8080/"
        },
        "id": "SSsyNFikkd5Z",
        "outputId": "56c8baa0-edc6-481b-dd53-29271bd5dacd"
      },
      "execution_count": null,
      "outputs": [
        {
          "output_type": "stream",
          "name": "stdout",
          "text": [
            "Looking in indexes: https://pypi.org/simple, https://us-python.pkg.dev/colab-wheels/public/simple/\n",
            "Requirement already satisfied: matplotlib-venn in /usr/local/lib/python3.9/dist-packages (0.11.9)\n",
            "Requirement already satisfied: scipy in /usr/local/lib/python3.9/dist-packages (from matplotlib-venn) (1.10.1)\n",
            "Requirement already satisfied: numpy in /usr/local/lib/python3.9/dist-packages (from matplotlib-venn) (1.22.4)\n",
            "Requirement already satisfied: matplotlib in /usr/local/lib/python3.9/dist-packages (from matplotlib-venn) (3.7.1)\n",
            "Requirement already satisfied: pyparsing>=2.3.1 in /usr/local/lib/python3.9/dist-packages (from matplotlib->matplotlib-venn) (3.0.9)\n",
            "Requirement already satisfied: fonttools>=4.22.0 in /usr/local/lib/python3.9/dist-packages (from matplotlib->matplotlib-venn) (4.39.2)\n",
            "Requirement already satisfied: cycler>=0.10 in /usr/local/lib/python3.9/dist-packages (from matplotlib->matplotlib-venn) (0.11.0)\n",
            "Requirement already satisfied: contourpy>=1.0.1 in /usr/local/lib/python3.9/dist-packages (from matplotlib->matplotlib-venn) (1.0.7)\n",
            "Requirement already satisfied: importlib-resources>=3.2.0 in /usr/local/lib/python3.9/dist-packages (from matplotlib->matplotlib-venn) (5.12.0)\n",
            "Requirement already satisfied: kiwisolver>=1.0.1 in /usr/local/lib/python3.9/dist-packages (from matplotlib->matplotlib-venn) (1.4.4)\n",
            "Requirement already satisfied: packaging>=20.0 in /usr/local/lib/python3.9/dist-packages (from matplotlib->matplotlib-venn) (23.0)\n",
            "Requirement already satisfied: python-dateutil>=2.7 in /usr/local/lib/python3.9/dist-packages (from matplotlib->matplotlib-venn) (2.8.2)\n",
            "Requirement already satisfied: pillow>=6.2.0 in /usr/local/lib/python3.9/dist-packages (from matplotlib->matplotlib-venn) (8.4.0)\n",
            "Requirement already satisfied: zipp>=3.1.0 in /usr/local/lib/python3.9/dist-packages (from importlib-resources>=3.2.0->matplotlib->matplotlib-venn) (3.15.0)\n",
            "Requirement already satisfied: six>=1.5 in /usr/local/lib/python3.9/dist-packages (from python-dateutil>=2.7->matplotlib->matplotlib-venn) (1.16.0)\n"
          ]
        }
      ]
    },
    {
      "cell_type": "code",
      "source": [
        "!apt-get -qq install -y libfluidsynth1"
      ],
      "metadata": {
        "colab": {
          "base_uri": "https://localhost:8080/"
        },
        "id": "Q8pJcjShki29",
        "outputId": "a3aa4789-4801-48ac-d252-aa24d625267c"
      },
      "execution_count": null,
      "outputs": [
        {
          "output_type": "stream",
          "name": "stdout",
          "text": [
            "E: Package 'libfluidsynth1' has no installation candidate\n"
          ]
        }
      ]
    },
    {
      "cell_type": "code",
      "source": [
        "# https://pypi.python.org/pypi/libarchive\n",
        "!apt-get -qq install -y libarchive-dev && pip install -U libarchive\n",
        "import libarchive"
      ],
      "metadata": {
        "colab": {
          "base_uri": "https://localhost:8080/"
        },
        "id": "O63UiHuqQYwF",
        "outputId": "b14824b0-01a9-4d15-d13c-8c299bd9d8b7"
      },
      "execution_count": 5,
      "outputs": [
        {
          "output_type": "stream",
          "name": "stdout",
          "text": [
            "Selecting previously unselected package libarchive-dev:amd64.\n",
            "(Reading database ... 128285 files and directories currently installed.)\n",
            "Preparing to unpack .../libarchive-dev_3.4.0-2ubuntu1.2_amd64.deb ...\n",
            "Unpacking libarchive-dev:amd64 (3.4.0-2ubuntu1.2) ...\n",
            "Setting up libarchive-dev:amd64 (3.4.0-2ubuntu1.2) ...\n",
            "Processing triggers for man-db (2.9.1-1) ...\n",
            "Looking in indexes: https://pypi.org/simple, https://us-python.pkg.dev/colab-wheels/public/simple/\n",
            "Collecting libarchive\n",
            "  Downloading libarchive-0.4.7.tar.gz (23 kB)\n",
            "  Preparing metadata (setup.py) ... \u001b[?25l\u001b[?25hdone\n",
            "Collecting nose\n",
            "  Downloading nose-1.3.7-py3-none-any.whl (154 kB)\n",
            "\u001b[2K     \u001b[90m━━━━━━━━━━━━━━━━━━━━━━━━━━━━━━━━━━━━━━━\u001b[0m \u001b[32m154.7/154.7 KB\u001b[0m \u001b[31m3.6 MB/s\u001b[0m eta \u001b[36m0:00:00\u001b[0m\n",
            "\u001b[?25hBuilding wheels for collected packages: libarchive\n",
            "  Building wheel for libarchive (setup.py) ... \u001b[?25l\u001b[?25hdone\n",
            "  Created wheel for libarchive: filename=libarchive-0.4.7-py3-none-any.whl size=31644 sha256=acc3b411b6c7208713082ed31c634af849b65d9b6c855ae0b45b3af0388c08fc\n",
            "  Stored in directory: /root/.cache/pip/wheels/c9/a5/cc/cb20f1314d4cdec0001fd72baa1efe93e1542a81bdea2fc639\n",
            "Successfully built libarchive\n",
            "Installing collected packages: nose, libarchive\n",
            "Successfully installed libarchive-0.4.7 nose-1.3.7\n"
          ]
        }
      ]
    },
    {
      "cell_type": "code",
      "source": [
        "# https://pypi.python.org/pypi/pydot\n",
        "!apt-get -qq install -y graphviz && pip install pydot\n",
        "import pydot"
      ],
      "metadata": {
        "colab": {
          "base_uri": "https://localhost:8080/"
        },
        "id": "UfEaXGx1RLVE",
        "outputId": "a16391e5-a5b7-4bc3-8420-a258c47748cf"
      },
      "execution_count": 8,
      "outputs": [
        {
          "output_type": "stream",
          "name": "stdout",
          "text": [
            "Looking in indexes: https://pypi.org/simple, https://us-python.pkg.dev/colab-wheels/public/simple/\n",
            "Requirement already satisfied: pydot in /usr/local/lib/python3.9/dist-packages (1.4.2)\n",
            "Requirement already satisfied: pyparsing>=2.1.4 in /usr/local/lib/python3.9/dist-packages (from pydot) (3.0.9)\n"
          ]
        }
      ]
    },
    {
      "cell_type": "code",
      "source": [
        "!pip install cartopy\n",
        "import cartopy"
      ],
      "metadata": {
        "colab": {
          "base_uri": "https://localhost:8080/"
        },
        "id": "qMQeXfh5RPHY",
        "outputId": "537e3e00-46e5-4a46-862e-c65de587c464"
      },
      "execution_count": 9,
      "outputs": [
        {
          "output_type": "stream",
          "name": "stdout",
          "text": [
            "Looking in indexes: https://pypi.org/simple, https://us-python.pkg.dev/colab-wheels/public/simple/\n",
            "Collecting cartopy\n",
            "  Downloading Cartopy-0.21.1.tar.gz (10.9 MB)\n",
            "\u001b[2K     \u001b[90m━━━━━━━━━━━━━━━━━━━━━━━━━━━━━━━━━━━━━━━━\u001b[0m \u001b[32m10.9/10.9 MB\u001b[0m \u001b[31m52.0 MB/s\u001b[0m eta \u001b[36m0:00:00\u001b[0m\n",
            "\u001b[?25h  Installing build dependencies ... \u001b[?25l\u001b[?25hdone\n",
            "  Getting requirements to build wheel ... \u001b[?25l\u001b[?25hdone\n",
            "  Preparing metadata (pyproject.toml) ... \u001b[?25l\u001b[?25hdone\n",
            "Collecting pyshp>=2.1\n",
            "  Downloading pyshp-2.3.1-py2.py3-none-any.whl (46 kB)\n",
            "\u001b[2K     \u001b[90m━━━━━━━━━━━━━━━━━━━━━━━━━━━━━━━━━━━━━━━━\u001b[0m \u001b[32m46.5/46.5 KB\u001b[0m \u001b[31m4.9 MB/s\u001b[0m eta \u001b[36m0:00:00\u001b[0m\n",
            "\u001b[?25hCollecting pyproj>=3.0.0\n",
            "  Downloading pyproj-3.4.1-cp39-cp39-manylinux_2_17_x86_64.manylinux2014_x86_64.whl (7.7 MB)\n",
            "\u001b[2K     \u001b[90m━━━━━━━━━━━━━━━━━━━━━━━━━━━━━━━━━━━━━━━━\u001b[0m \u001b[32m7.7/7.7 MB\u001b[0m \u001b[31m97.9 MB/s\u001b[0m eta \u001b[36m0:00:00\u001b[0m\n",
            "\u001b[?25hRequirement already satisfied: matplotlib>=3.1 in /usr/local/lib/python3.9/dist-packages (from cartopy) (3.7.1)\n",
            "Requirement already satisfied: shapely>=1.6.4 in /usr/local/lib/python3.9/dist-packages (from cartopy) (2.0.1)\n",
            "Requirement already satisfied: numpy>=1.18 in /usr/local/lib/python3.9/dist-packages (from cartopy) (1.22.4)\n",
            "Requirement already satisfied: pyparsing>=2.3.1 in /usr/local/lib/python3.9/dist-packages (from matplotlib>=3.1->cartopy) (3.0.9)\n",
            "Requirement already satisfied: pillow>=6.2.0 in /usr/local/lib/python3.9/dist-packages (from matplotlib>=3.1->cartopy) (8.4.0)\n",
            "Requirement already satisfied: fonttools>=4.22.0 in /usr/local/lib/python3.9/dist-packages (from matplotlib>=3.1->cartopy) (4.39.2)\n",
            "Requirement already satisfied: packaging>=20.0 in /usr/local/lib/python3.9/dist-packages (from matplotlib>=3.1->cartopy) (23.0)\n",
            "Requirement already satisfied: kiwisolver>=1.0.1 in /usr/local/lib/python3.9/dist-packages (from matplotlib>=3.1->cartopy) (1.4.4)\n",
            "Requirement already satisfied: python-dateutil>=2.7 in /usr/local/lib/python3.9/dist-packages (from matplotlib>=3.1->cartopy) (2.8.2)\n",
            "Requirement already satisfied: importlib-resources>=3.2.0 in /usr/local/lib/python3.9/dist-packages (from matplotlib>=3.1->cartopy) (5.12.0)\n",
            "Requirement already satisfied: cycler>=0.10 in /usr/local/lib/python3.9/dist-packages (from matplotlib>=3.1->cartopy) (0.11.0)\n",
            "Requirement already satisfied: contourpy>=1.0.1 in /usr/local/lib/python3.9/dist-packages (from matplotlib>=3.1->cartopy) (1.0.7)\n",
            "Requirement already satisfied: certifi in /usr/local/lib/python3.9/dist-packages (from pyproj>=3.0.0->cartopy) (2022.12.7)\n",
            "Requirement already satisfied: zipp>=3.1.0 in /usr/local/lib/python3.9/dist-packages (from importlib-resources>=3.2.0->matplotlib>=3.1->cartopy) (3.15.0)\n",
            "Requirement already satisfied: six>=1.5 in /usr/local/lib/python3.9/dist-packages (from python-dateutil>=2.7->matplotlib>=3.1->cartopy) (1.16.0)\n",
            "Building wheels for collected packages: cartopy\n",
            "  Building wheel for cartopy (pyproject.toml) ... \u001b[?25l\u001b[?25hdone\n",
            "  Created wheel for cartopy: filename=Cartopy-0.21.1-cp39-cp39-linux_x86_64.whl size=11113645 sha256=b0d45c06f0a03d9b165adf2a958c2a3c785b83a9db4faee630286df85e4c6990\n",
            "  Stored in directory: /root/.cache/pip/wheels/74/b9/f5/2c94acd7cd21480e6cf63169144d7aac3e8d9cf638225ed578\n",
            "Successfully built cartopy\n",
            "Installing collected packages: pyshp, pyproj, cartopy\n",
            "Successfully installed cartopy-0.21.1 pyproj-3.4.1 pyshp-2.3.1\n"
          ]
        }
      ]
    },
    {
      "cell_type": "code",
      "execution_count": 12,
      "metadata": {
        "colab": {
          "base_uri": "https://localhost:8080/",
          "height": 1000
        },
        "id": "GiWbqNB7abUt",
        "outputId": "5be3f60f-7af6-434c-ec8f-63af2b191a9e"
      },
      "outputs": [
        {
          "output_type": "stream",
          "name": "stdout",
          "text": [
            "<class 'pandas.core.frame.DataFrame'>\n",
            "RangeIndex: 7049 entries, 0 to 7048\n",
            "Data columns (total 31 columns):\n",
            " #   Column                     Non-Null Count  Dtype  \n",
            "---  ------                     --------------  -----  \n",
            " 0   left_eye_center_x          7039 non-null   float64\n",
            " 1   left_eye_center_y          7039 non-null   float64\n",
            " 2   right_eye_center_x         7036 non-null   float64\n",
            " 3   right_eye_center_y         7036 non-null   float64\n",
            " 4   left_eye_inner_corner_x    2271 non-null   float64\n",
            " 5   left_eye_inner_corner_y    2271 non-null   float64\n",
            " 6   left_eye_outer_corner_x    2267 non-null   float64\n",
            " 7   left_eye_outer_corner_y    2267 non-null   float64\n",
            " 8   right_eye_inner_corner_x   2268 non-null   float64\n",
            " 9   right_eye_inner_corner_y   2268 non-null   float64\n",
            " 10  right_eye_outer_corner_x   2268 non-null   float64\n",
            " 11  right_eye_outer_corner_y   2268 non-null   float64\n",
            " 12  left_eyebrow_inner_end_x   2270 non-null   float64\n",
            " 13  left_eyebrow_inner_end_y   2270 non-null   float64\n",
            " 14  left_eyebrow_outer_end_x   2225 non-null   float64\n",
            " 15  left_eyebrow_outer_end_y   2225 non-null   float64\n",
            " 16  right_eyebrow_inner_end_x  2270 non-null   float64\n",
            " 17  right_eyebrow_inner_end_y  2270 non-null   float64\n",
            " 18  right_eyebrow_outer_end_x  2236 non-null   float64\n",
            " 19  right_eyebrow_outer_end_y  2236 non-null   float64\n",
            " 20  nose_tip_x                 7049 non-null   float64\n",
            " 21  nose_tip_y                 7049 non-null   float64\n",
            " 22  mouth_left_corner_x        2269 non-null   float64\n",
            " 23  mouth_left_corner_y        2269 non-null   float64\n",
            " 24  mouth_right_corner_x       2270 non-null   float64\n",
            " 25  mouth_right_corner_y       2270 non-null   float64\n",
            " 26  mouth_center_top_lip_x     2275 non-null   float64\n",
            " 27  mouth_center_top_lip_y     2275 non-null   float64\n",
            " 28  mouth_center_bottom_lip_x  7016 non-null   float64\n",
            " 29  mouth_center_bottom_lip_y  7016 non-null   float64\n",
            " 30  Image                      7049 non-null   object \n",
            "dtypes: float64(30), object(1)\n",
            "memory usage: 1.7+ MB\n",
            "None\n",
            "(7049, 96, 96, 1)\n",
            "(7049, 30)\n"
          ]
        },
        {
          "output_type": "error",
          "ename": "ModuleNotFoundError",
          "evalue": "ignored",
          "traceback": [
            "\u001b[0;31m---------------------------------------------------------------------------\u001b[0m",
            "\u001b[0;31mModuleNotFoundError\u001b[0m                       Traceback (most recent call last)",
            "\u001b[0;32m<ipython-input-12-f5e7e308a0e2>\u001b[0m in \u001b[0;36m<module>\u001b[0;34m\u001b[0m\n\u001b[1;32m     71\u001b[0m \u001b[0;32mfrom\u001b[0m \u001b[0mkeras\u001b[0m\u001b[0;34m.\u001b[0m\u001b[0mlayers\u001b[0m \u001b[0;32mimport\u001b[0m \u001b[0mActivation\u001b[0m\u001b[0;34m,\u001b[0m \u001b[0mConvolution2D\u001b[0m\u001b[0;34m,\u001b[0m\u001b[0mMaxPooling2D\u001b[0m\u001b[0;34m,\u001b[0m\u001b[0mBatchNormalization\u001b[0m\u001b[0;34m,\u001b[0m \u001b[0mFlatten\u001b[0m\u001b[0;34m,\u001b[0m \u001b[0mDense\u001b[0m\u001b[0;34m,\u001b[0m \u001b[0mDropout\u001b[0m\u001b[0;34m\u001b[0m\u001b[0;34m\u001b[0m\u001b[0m\n\u001b[1;32m     72\u001b[0m \u001b[0;31m#!pip install keras --upgrade\u001b[0m\u001b[0;34m\u001b[0m\u001b[0;34m\u001b[0m\u001b[0m\n\u001b[0;32m---> 73\u001b[0;31m \u001b[0;32mfrom\u001b[0m \u001b[0mkeras\u001b[0m\u001b[0;34m.\u001b[0m\u001b[0mlayers\u001b[0m\u001b[0;34m.\u001b[0m\u001b[0madvanced\u001b[0m\u001b[0;34m.\u001b[0m\u001b[0mactivations\u001b[0m \u001b[0;32mimport\u001b[0m \u001b[0mLeakyReLU\u001b[0m\u001b[0;34m\u001b[0m\u001b[0;34m\u001b[0m\u001b[0m\n\u001b[0m\u001b[1;32m     74\u001b[0m \u001b[0;34m\u001b[0m\u001b[0m\n\u001b[1;32m     75\u001b[0m \u001b[0mmodel\u001b[0m \u001b[0;34m=\u001b[0m \u001b[0mSequential\u001b[0m\u001b[0;34m(\u001b[0m\u001b[0;34m)\u001b[0m\u001b[0;34m\u001b[0m\u001b[0;34m\u001b[0m\u001b[0m\n",
            "\u001b[0;31mModuleNotFoundError\u001b[0m: No module named 'keras.layers.advanced'",
            "",
            "\u001b[0;31m---------------------------------------------------------------------------\u001b[0;32m\nNOTE: If your import is failing due to a missing package, you can\nmanually install dependencies using either !pip or !apt.\n\nTo view examples of installing some common dependencies, click the\n\"Open Examples\" button below.\n\u001b[0;31m---------------------------------------------------------------------------\u001b[0m\n"
          ],
          "errorDetails": {
            "actions": [
              {
                "action": "open_url",
                "actionText": "Open Examples",
                "url": "/notebooks/snippets/importing_libraries.ipynb"
              }
            ]
          }
        },
        {
          "output_type": "display_data",
          "data": {
            "text/plain": [
              "<Figure size 576x288 with 2 Axes>"
            ],
            "image/png": "[encoded data removed]"
          },
          "metadata": {
            "needs_background": "light"
          }
        }
      ],
      "source": [
        "# Import necessary libraries\n",
        "import numpy as np\n",
        "import pandas as pd\n",
        "import os\n",
        "import zipfile\n",
        "\n",
        "# Set file paths:This code sets the paths for the zip files containing the training and testing data, the file containing the lookup table for the output, and a sample submission file.\n",
        "train_zip_path = \"/content/training.zip\"\n",
        "test_zip_path = \"/content/test.zip\"\n",
        "id_lookup_table_path = \"/content/IdLookupTable.csv\"\n",
        "sample_submission_path = \"/content/SampleSubmission.csv\"\n",
        "# Extract data from zip files into separate folders named \"train_data\" and \"test_data\".\n",
        "with zipfile.ZipFile(train_zip_path, 'r') as zip_ref:\n",
        "    zip_ref.extractall('train_data')\n",
        "with zipfile.ZipFile(test_zip_path, 'r') as zip_ref:\n",
        "    zip_ref.extractall('test_data')\n",
        "\n",
        "# Load data into dataframes: This code reads the CSV files in the \"train_data\" and \"test_data\" folders into Pandas dataframes, and reads the lookup table and sample submission files into dataframes as well.\n",
        "train_df = pd.read_csv('train_data/training.csv')\n",
        "test_df = pd.read_csv('test_data/test.csv')\n",
        "id_lookup_table = pd.read_csv(id_lookup_table_path)\n",
        "sample_submission = pd.read_csv(sample_submission_path)\n",
        "\n",
        "# Print information about train_df\n",
        "print(train_df.info())\n",
        "\n",
        "#Fill the Nan values and Separate and reshape input values(x_train): This code fills the missing values in the \"train_df\" dataframe using forward fill (i.e., copying the last valid value to fill the missing values).\n",
        "\n",
        "train_df.fillna(method='ffill',inplace=True)\n",
        "\n",
        "#Separate and reshape input values(x_train) in the training dataset :\n",
        "#This code extracts the \"Image\" column from the \"train_df\" dataframe into a separate dataframe called \"image_df\", then converts the pixel values into an array of floats. The array is then reshaped into a 4-dimensional array of size (number of examples, 96, 96, 1), where the last dimension corresponds to the number of channels (in this case, 1 since the images are grayscale). The resulting array is stored in \"x_train\", and its shape is printed.\n",
        "image_df = train_df['Image']\n",
        "imageArr = []\n",
        "for i in range(0,len(image_df)):\n",
        "     img = image_df[i].split()\n",
        "     img = ['0' if x == '' else x for x in img]\n",
        "     imageArr.append(img)\n",
        "#The pixel values for each image are stored in the imageArr list, and they are converted to a numpy array and reshaped to be a 4-dimensional array with shape (number of images, height, width, channels). The channels dimension is set to 1 because the images are grayscale. The shape of the resulting x_train array is printed.\n",
        "x_train = np.array(imageArr,dtype='float')\n",
        "x_train = x_train.reshape(-1,96,96,1)\n",
        "print(x_train.shape)\n",
        "\n",
        "#Create a CNN that takes pictures as input and outputs key points: This code creates a new dataframe called \"keypoints_df\" by dropping the \"Image\" column from the \"train_df\" dataframe. The remaining columns correspond to the key point coordinates. These coordinates are converted to an array of floats and stored in \"y_train\". The shape of this array is printed.\n",
        "keypoints_df = train_df.drop('Image',axis = 1)\n",
        "y_train = np.array(keypoints_df,dtype='float')\n",
        "print(y_train.shape)\n",
        "\n",
        "#This function takes an index as input and displays the corresponding image from the x_train array using matplotlib's imshow() method. The image is reshaped to its original dimensions, and the colormap is set to grayscale. The function then plots red circles at the key point coordinates from the corresponding row of the y_train array.\n",
        "def visualizeWithNoKeypoints(index):\n",
        "    plt.imshow(x_train[index].reshape(96,96),cmap='gray')\n",
        "def visualizeWithKeypoints(index):\n",
        "    plt.imshow(x_train[index].reshape(96,96),cmap='gray')\n",
        "    for i in range(1,31,2):\n",
        "        plt.plot(y_train[0][i-1],y_train[0][i],'ro')\n",
        "\n",
        "#After we have written the visualize function and next, we can visualize each image using the function call\n",
        "#This code creates a figure that contains two subplots, one for each visualization function defined above. The first subplot displays the image without keypoints and the second subplot displays the image with keypoints.\n",
        "\n",
        "import matplotlib.pyplot as plt\n",
        "fig = plt.figure(figsize=(8,4))\n",
        "fig.subplots_adjust(left=0,right=1,bottom=0,top=1,hspace=0.05,wspace=0.05)\n",
        "plt.subplot(1,2,1)\n",
        "visualizeWithNoKeypoints(1)\n",
        "plt.subplot(1,2,2)\n",
        "visualizeWithKeypoints(1)\n",
        "\n",
        "#The data has been preprocessed. To create our CNN model, we’ll utilize the Keras framework.\n",
        "\n",
        "from keras.models import Sequential, Model\n",
        "from keras.layers import Activation, Convolution2D,MaxPooling2D,BatchNormalization, Flatten, Dense, Dropout\n",
        "#!pip install keras --upgrade\n",
        "from keras.layers.advanced.activations import LeakyReLU\n",
        "\n",
        "model = Sequential()\n",
        "\n",
        "model.add(Convolution2D(32,(3,3),padding='same',use_bias=False, input_shape=(96,96,1)))\n",
        "model.add(LeakyReLU(alpha = 0.1))\n",
        "model.add(BatchNormalization())\n",
        "\n",
        "model.add(Convolution2D(32,(3,3),padding='same',use_bias = False))\n",
        "model.add(LeakyReLU(alpha=0.1))\n",
        "model.add(BatchNormalization())\n",
        "model.add(MaxPooling2D(pool_size=(2,2)))\n",
        "\n",
        "model.add(Convolution2D(64,(3,3),padding='same',use_bias = False))\n",
        "model.add(LeakyReLU(alpha=0.1))\n",
        "model.add(BatchNormalization())\n",
        "\n",
        "model.add(Convolution2D(64, (3,3), padding='same', use_bias=False))\n",
        "model.add(LeakyReLU(alpha = 0.1))\n",
        "model.add(BatchNormalization())\n",
        "\n",
        "model.add(MaxPooling2D(pool_size=(2, 2)))\n",
        "model.add(Convolution2D(96, (3,3), padding='same', use_bias=False))\n",
        "model.add(LeakyReLU(alpha = 0.1))\n",
        "model.add(BatchNormalization())\n",
        "\n",
        "model.add(Convolution2D(96, (3,3), padding='same', use_bias=False))\n",
        "model.add(LeakyReLU(alpha = 0.1))\n",
        "model.add(BatchNormalization())\n",
        "\n",
        "model.add(MaxPooling2D(pool_size=(2, 2)))\n",
        "model.add(Convolution2D(128, (3,3),padding='same', use_bias=False))\n",
        "\n",
        "model.add(BatchNormalization())\n",
        "\n",
        "model.add(LeakyReLU(alpha = 0.1))\n",
        "model.add(BatchNormalization())\n",
        "\n",
        "model.add(Convolution2D(128, (3,3),padding='same', use_bias=False))\n",
        "model.add(LeakyReLU(alpha = 0.1))\n",
        "model.add(BatchNormalization())\n",
        "\n",
        "model.add(MaxPooling2D(pool_size=(2, 2)))\n",
        "model.add(Convolution2D(256, (3,3),padding='same',use_bias=False))\n",
        "model.add(LeakyReLU(alpha = 0.1))\n",
        "model.add(BatchNormalization())\n",
        "\n",
        "model.add(Convolution2D(256, (3,3),padding='same',use_bias=False))\n",
        "model.add(LeakyReLU(alpha = 0.1))\n",
        "model.add(BatchNormalization())\n",
        "\n",
        "model.add(MaxPooling2D(pool_size=(2, 2)))\n",
        "model.add(Convolution2D(512, (3,3), padding='same', use_bias=False))\n",
        "model.add(LeakyReLU(alpha = 0.1))\n",
        "\n",
        "model.add(BatchNormalization())\n",
        "model.add(Convolution2D(512, (3,3), padding='same', use_bias=False))\n",
        "model.add(LeakyReLU(alpha = 0.1))\n",
        "\n",
        "model.add(BatchNormalization())\n",
        "model.add(Flatten())\n",
        "model.add(Dense(512,activation='relu'))\n",
        "model.add(Dropout(0.1))\n",
        "model.add(Dense(30))\n",
        "model.summary()\n",
        "\n",
        "#The next step is to configure the model :\n",
        "\n",
        "model.compile(optimizer='adam',loss='mean_squared_error',metrics=['mae','acc'])\n",
        "model.fit(x_train,y_train,batch_size=256,epochs=45,validation_split=2.0)\n",
        "#A total number of 50 iterations were performed in the whole training dataset.\n",
        "\n",
        "#To put the model to the test using our data collection, we must first prepare our test set.\n",
        "\n",
        "# test_df.isnull().any()\n",
        "\n",
        "#x test: Separate and reshape input test values\n",
        "\n",
        "# image_df = test_df['Image']\n",
        "# keypoints_df = test_df.drop('Image',axis = 1)\n",
        "# imageArr = []\n",
        "\n",
        "# for i in range(0,len(image_df)):\n",
        "#     img = image_df[i].split()\n",
        "    #img = ['0' if x=='' else x for <a onclick=\"parent.postMessage({'referent':'.kaggle.usercode.9109824.32742593.[5124,5127].x'}, '*')\">x in img]\n",
        "    # imageArr.append(img)\n",
        "#x_test = np.<a onclick=\"parent.postMessage({'referent':'.numpy.array'}, '*')\">array(imageArr,dtype='float')\n",
        "# x_test = x_test.reshape(-1,96,96,1)\n",
        "# print(x_test.shape)\n",
        "\n",
        "#We're now going to separate target values (y_test) in the test data set\n",
        "\n",
        "#y_test = np.<a onclick=\"parent.postMessage({'referent':'.numpy.array'}, '*')\">array(keypoints_df,dtype='float')\n",
        "# print(y_test.shape)\n",
        "\n",
        "#Now, it’s time to predict the results of the trained model;\n",
        "\n",
        "# pred = model.predict(x_test)\n",
        "# idLookupTable.head()\n",
        "\n",
        "import tensorflow as tf\n",
        "import os\n",
        "import pandas as pd\n",
        "import numpy as np\n",
        "from dataset import get_data\n",
        "from utils import evaluation_keypoints_plot, test_keypoints_plot\n",
        "from tqdm import tqdm\n",
        "# Create directory to save validation results.\n",
        "validation_result_path = os.path.join('..', 'outputs', 'validation_results')\n",
        "os.makedirs(os.path.join(validation_result_path), exist_ok=True)\n",
        "# Create directory to save test results.\n",
        "test_result_path = os.path.join('..', 'outputs', 'test_results')\n",
        "os.makedirs(os.path.join(test_result_path), exist_ok=True)\n",
        "model = tf.keras.models.load_model('../outputs/saved_model')\n",
        "print(model.summary())\n",
        "_, valid_ds = get_data()\n",
        "\n",
        "def evaluate(valid_ds):\n",
        "    # Get the results.\n",
        "    results = model.predict(valid_ds)\n",
        "    # Loop over the validation set and save the \n",
        "    # images and corresponding result plot to disk.\n",
        "    counter = 0\n",
        "    for i, batch in tqdm(enumerate(valid_ds), total=len(valid_ds)):\n",
        "        for j, (image, keypoints) in enumerate(zip(batch[0], batch[1])):\n",
        "            evaluation_keypoints_plot(\n",
        "                image, results[counter], keypoints,\n",
        "                save_path=os.path.join(validation_result_path, str(counter)+'.png')\n",
        "            )\n",
        "            counter += 1\n",
        "\n",
        "def test(test_csv_path):\n",
        "\n",
        "#Function to predict on all images present in `test.csv` file\n",
        "\n",
        "    test_df = pd.read_csv(test_csv_path)\n",
        "    images = test_df.Image\n",
        "    for i in tqdm(range(len(images)), total=len(images)):\n",
        "        image = images.iloc[i].split(' ')\n",
        "        image = np.array(image, dtype=np.float32) / 255.\n",
        "        image = image.reshape(96, 96)\n",
        "        image = image.reshape(96, 96, 1)\n",
        "        image_batch = np.expand_dims(image, axis=0)\n",
        "        image_tensor = tf.convert_to_tensor(image_batch)\n",
        "        outputs = model.predict(image_tensor)\n",
        "        test_keypoints_plot(\n",
        "            image, outputs, \n",
        "            save_path=os.path.join(test_result_path, str(i)+'.png')\n",
        "        )\n",
        "print('Evaluating...')\n",
        "evaluate(valid_ds)\n",
        "print('Testing...')\n",
        "test(test_csv_path=os.path.join('..', 'input', 'test.csv'))"
      ]
    },
    {
      "cell_type": "code",
      "source": [],
      "metadata": {
        "id": "avd6tAPpac_Z"
      },
      "execution_count": null,
      "outputs": []
    }
  ]
}